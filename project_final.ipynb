{
 "cells": [
  {
   "cell_type": "code",
   "execution_count": 66,
   "metadata": {},
   "outputs": [
    {
     "data": {
      "text/plain": [
       "True"
      ]
     },
     "execution_count": 66,
     "metadata": {},
     "output_type": "execute_result"
    }
   ],
   "source": [
    "import os\n",
    "import json\n",
    "\n",
    "from langchain.llms import OpenAI\n",
    "from langchain.prompts import PromptTemplate\n",
    "from langchain.chains import LLMChain\n",
    "from langchain_community.chat_models import ChatOpenAI\n",
    "\n",
    "\n",
    "from dotenv import load_dotenv\n",
    "load_dotenv()\n"
   ]
  },
  {
   "cell_type": "code",
   "execution_count": 67,
   "metadata": {},
   "outputs": [
    {
     "name": "stderr",
     "output_type": "stream",
     "text": [
      "e:\\Python\\New folder\\AIprojects\\Synthetic_Data_generation\\syn_data_env\\Lib\\site-packages\\langchain_core\\_api\\deprecation.py:119: LangChainDeprecationWarning: The class `ChatOpenAI` was deprecated in LangChain 0.0.10 and will be removed in 0.3.0. An updated version of the class exists in the langchain-openai package and should be used instead. To use it run `pip install -U langchain-openai` and import as `from langchain_openai import ChatOpenAI`.\n",
      "  warn_deprecated(\n"
     ]
    }
   ],
   "source": [
    "\n",
    "# \n",
    "llm = ChatOpenAI(openai_api_key=\"Key\",model_name=\"gpt-3.5-turbo-0613\") # Paid key\n",
    "\n",
    "\n"
   ]
  },
  {
   "cell_type": "markdown",
   "metadata": {},
   "source": [
    "# Load and Split data functions"
   ]
  },
  {
   "cell_type": "code",
   "execution_count": 3,
   "metadata": {},
   "outputs": [],
   "source": [
    "# load data\n",
    "file_path=\"../Data/company_data.json\"\n",
    "def load_data(path):\n",
    "    try:\n",
    "        file_path = path \n",
    "        # Open the file in read mode\n",
    "        with open(file_path, 'r') as file:\n",
    "            company_data = json.load(file)       # Load the JSON data from the file\n",
    "            return company_data\n",
    "    except FileNotFoundError as e:\n",
    "        raise FileNotFoundError(\"File Could not be found\")\n",
    "\n",
    "def data_split(data):\n",
    "    try:\n",
    "        if not isinstance(data,dict):\n",
    "            raise ValueError(\"Data is not a dictionary\")   \n",
    "        \n",
    "        home=data['pages'][0]\n",
    "        about=data['pages'][1]\n",
    "        publications=data['pages'][2]\n",
    "        contacts=data['pages'][3]\n",
    "        company_info = {\n",
    "        \"businessName\": data[\"businessName\"],\n",
    "        \"Country\": data[\"Country\"],\n",
    "        \"product_type\": data[\"product_type\"],\n",
    "        \"business_info\": data[\"business_info\"]\n",
    "        }\n",
    "        final_data=[home,about,publications,contacts]\n",
    "        return final_data,company_info  \n",
    "    except Exception as e:\n",
    "        raise ValueError(e)"
   ]
  },
  {
   "cell_type": "markdown",
   "metadata": {},
   "source": [
    "# Load Data"
   ]
  },
  {
   "cell_type": "code",
   "execution_count": 132,
   "metadata": {},
   "outputs": [],
   "source": [
    "json_data=load_data(file_path)\n",
    "final_data,company_info=data_split(json_data)"
   ]
  },
  {
   "cell_type": "markdown",
   "metadata": {},
   "source": [
    "# Generate Content"
   ]
  },
  {
   "cell_type": "code",
   "execution_count": 212,
   "metadata": {},
   "outputs": [],
   "source": [
    "def generate_content(page_data, company_info):\n",
    "    if page_data['page_type']== \"edit\" and page_data['copyService'] == \"newCopy\":\n",
    "\n",
    "        if page_data['title'] == \"Home\":\n",
    "            response_format={\n",
    "            \"company_info\": {\n",
    "                \"meta_title\": \"select Company name provoide suitable title based on input 10-15 words\",\n",
    "                \"meta_description\": \"provoide suitable description based  on SEO keywords to make content 70-100 character \",\n",
    "\n",
    "            },\n",
    "            \"content\":{\n",
    "                \"hero_title\": \"Provoide hero title should be short and catchy. based on input 10-20 words\",\n",
    "                \"h1_content\": \"The hero section should give an overall idea about the business and it will be slightly longer as it needs to extend the hero title’s idea. 150 words\",\n",
    "                \"h2_title\": \" Title should be unique and intract shouldd not be repeative based on the above input 10-20 words\",\n",
    "                \"h2_content\": \"Suitable content based on the above input and Explore case studies 150 character\",\n",
    "                \"leading_sentence\": \"Fill the information based on the input 50 words\",\n",
    "            }\n",
    "        }\n",
    "        \n",
    "            template_format=\"\"\"\n",
    "            Input data\n",
    "            {Home}\n",
    "            {company_info}\n",
    "            ###########################\n",
    "           \n",
    "            You are the content generation expert.you have to generate the content based on the above input and you should provoide the output with \n",
    "            respective format.Content should be unique and intract when the user see. use content keywords to highlight the importence of the main objective\n",
    "            return based on the below format. \n",
    "            ##########################\n",
    "            do not give  input data as an output.only below respective format i want \n",
    "            {response_format}\n",
    "            \"\"\"\n",
    "\n",
    "\n",
    "            prompt = PromptTemplate(\n",
    "                input_variables=[\"Home\",\"response_format\",\"company_info\"],\n",
    "                template=template_format)\n",
    "            chain = LLMChain(llm=llm,prompt=prompt)\n",
    "            result = chain(\n",
    "                {\n",
    "                    \"Home\":json.dumps(page_data),\n",
    "                    \"company_info\":json.dumps(company_info),\n",
    "                    \"template_format\":template_format,\n",
    "                    \"response_format\":json.dumps(response_format)\n",
    "                })\n",
    "       \n",
    "            return result['text']\n",
    "\n",
    "        elif page_data['title'] == \"About\":\n",
    "            response_format={\n",
    "                \"company_info\": {\n",
    "                    \"meta_title\": \"select Company name provoide suitable title based on input 10-15 words\",\n",
    "                    \"meta_description\": \"provoide suitable description based   to make content 70-100 character \"\n",
    "                },\n",
    "                \"content\":{\n",
    "                    \"hero_title\": \"Provoide hero title should be short and catchy. based on input 10-20 words\",\n",
    "                    \"h1_content\": \"The hero section should give an overall idea about the business and it will be slightly longer as it needs to extend the hero title’s idea use on SEO keywords. 150 words\",\n",
    "                    \"h2_title\": \" Title should be unique and intract shouldd not be repeative based on the above input 10-20 words\",\n",
    "                    \"h2_content\": \"Suitable content based on the above input content  150 character\",\n",
    "                    \"leading_sentence\": \"This part should give the main motive of the content 50 words\",\n",
    "                }\n",
    "            }\n",
    "        \n",
    "            template_format=\"\"\"\n",
    "\n",
    "                Input data\n",
    "                {about}\n",
    "                {company_info}\n",
    "                ###########################\n",
    "            \n",
    "                You are the content generation expert.you have to generate the content based on the above input and you should provoide the output with \n",
    "                respective format.Content should be unique and intract when the user see. use content, keywords to highlight the importence of the main objective\n",
    "                return based on the below format. \n",
    "                ##########################\n",
    "                do not give  input data as an output.only below respective format i want \n",
    "                {response_format}\n",
    "\n",
    "                \n",
    "                \"\"\"\n",
    "            \n",
    "            prompt = PromptTemplate(\n",
    "                input_variables=[\"about\",\"response_format\",\"company_info\"],\n",
    "                template=template_format)\n",
    "            chain = LLMChain(llm=llm,prompt=prompt)\n",
    "            result = chain(\n",
    "                {\n",
    "                    \"about\":json.dumps(page_data),\n",
    "                    \"company_info\":json.dumps(company_info),\n",
    "                    \"template_format\":template_format,\n",
    "                    \"response_format\":json.dumps(response_format)\n",
    "                })\n",
    "            return result['text']\n",
    "    else:\n",
    "        if page_data['title'] == \"services\":\n",
    "            response_format={\n",
    "                \"company_info\": {\n",
    "                    \"meta_title\": \"select Company name provoide suitable title based on input 10-15 words\",\n",
    "                    \"meta_description\": \"provoide suitable description based  on SEO keywords to make content 70-100 character \",\n",
    "\n",
    "                },\n",
    "                \"content\":{\n",
    "                    \"Our Service\":\"Provoide one ultimate suitable title that i can use for services& offers in 10 words\",\n",
    "                    \"Best_Service1\": {\n",
    "                        \"title\":\"Provoide service 1 releated title based on the  input 10 words\",\n",
    "                        \"content\":\"Provoide service 1 releated content based on the  input 70 words\",\n",
    "                        \"Action\":\"this should be an action word based on the content 2- 3 words\"\n",
    "                    },\n",
    "                    \"Best_Service2\": {\n",
    "                        \"title\":\"Provoide service 2 releated title based on the  input 10 words\",\n",
    "                        \"content\":\"Provoide service 2 releated content based on the  input 70 words\",\n",
    "                        \"Action\":\"this should be an action word based on the content 2- 3 words\"\n",
    "                    },\n",
    "                    \"Best_Service3\": {\n",
    "                        \"title\":\"Provoide service 3 releated title based on the  input 10 words\",\n",
    "                        \"content\":\"Provoide service 3 releated content based on the  input 70 words\",\n",
    "                        \"Action\":\"this should be an action word based on the content 2- 3 words\"\n",
    "                    },\n",
    "                    \n",
    "                    \"Benifits\": \"Explain about our above  services benifits in 100 words \",\n",
    "                    \"leading_sentence\": \"Conclude our all the serives releated information short and cript within 50 words\",\n",
    "                }\n",
    "            }\n",
    "            \n",
    "            template_format=\"\"\"\n",
    "                Input data\n",
    "                {services}\n",
    "                {company_info}\n",
    "                ###########################\n",
    "            \n",
    "                You are the content generation expert.you have to generate the content based on the above input and you should provoide the output with \n",
    "                respective format.Content should be unique and intract when the user see. use content keywords to highlight the importence of the main objective.\n",
    "                you should use SEO keywords to make content more better\n",
    "                return based on the below format. \n",
    "                ##########################\n",
    "                do not give  input data as an output.only below respective format i want \n",
    "                {response_format}\n",
    "                \"\"\"\n",
    "            prompt = PromptTemplate(\n",
    "                input_variables=[\"services\",\"response_format\",\"company_info\"],\n",
    "                template=template_format)\n",
    "            chain = LLMChain(llm=llm,prompt=prompt)\n",
    "            result = chain(\n",
    "                {\n",
    "                    \"services\":json.dumps(page_data),\n",
    "                    \"company_info\":json.dumps(company_info),\n",
    "                    \"template_format\":template_format,\n",
    "                    \"response_format\":json.dumps(response_format)\n",
    "                })\n",
    "            return result['text']\n",
    "\n",
    "        elif page_data['title'] == \"Contact\":\n",
    "            response_format={\n",
    "            \"company_info\": {\n",
    "                \"meta_title\": \"select Company name provoide suitable title based on input 10-15 words\",\n",
    "                \"meta_description\": \"provoide suitable description based  on SEO keywords to make content 70-100 character \",\n",
    "                \"title\":\"Based on SEO keywords to generate suitable title\"    \n",
    "            }\n",
    "            }\n",
    "            \n",
    "        \n",
    "            template_format=\"\"\"\n",
    "            Input data\n",
    "            {contact}\n",
    "            {company_info}\n",
    "            ###########################\n",
    "           \n",
    "            You are the content generation expert.you have to generate the content based on the above input and you should provoide the output with \n",
    "            respective format.Content should be unique and intract when the user see. use content keywords to highlight the importence of the main objective\n",
    "            return based on the below format. \n",
    "            ##########################\n",
    "            do not give  input data as an output.only below respective format i want \n",
    "            {response_format}\n",
    "            \"\"\"\n",
    "\n",
    "\n",
    "            prompt = PromptTemplate(\n",
    "                input_variables=[\"contact\",\"response_format\",\"company_info\"],\n",
    "                template=template_format)\n",
    "            chain = LLMChain(llm=llm,prompt=prompt)\n",
    "            result = chain(\n",
    "                {\n",
    "                    \"contact\":json.dumps(page_data),\n",
    "                    \"company_info\":json.dumps(company_info),\n",
    "                    \"template_format\":template_format,\n",
    "                    \"response_format\":json.dumps(response_format)\n",
    "                })\n",
    "            return result['text']\n",
    "\n",
    "        elif page_data['title'] == \"Publications\":\n",
    "\n",
    "            response_format={\n",
    "            \n",
    "                \"meta_title\": \"select Company name provoide suitable title based on input 10-15 words\",\n",
    "                \"meta_description\": \"provoide suitable description based  on SEO keywords to make content 70-100 character \",\n",
    "                \"title\":\"Based on SEO keywords to generate suitable title\",    \n",
    "                \"content\":\"Make content using publication content with 100 words\",\n",
    "                \"Additional_information\":\"Explain about publication info\"\n",
    "            }\n",
    "            \n",
    "        \n",
    "            template_format=\"\"\"\n",
    "            Input data\n",
    "            {publications}\n",
    "            {company_info}\n",
    "            ###########################\n",
    "           \n",
    "            You are the content generation expert.you have to generate the content based on the above input and you should provoide the output with \n",
    "            respective format.Content should be unique and intract when the user see. use content keywords to highlight the importence of the main objective\n",
    "            return based on the below format. \n",
    "            ##########################\n",
    "            do not give  input data as an output.only below respective format i want \n",
    "            {response_format}\n",
    "            \"\"\"\n",
    "\n",
    "\n",
    "            prompt = PromptTemplate(\n",
    "                input_variables=[\"publications\",\"response_format\",\"company_info\"],\n",
    "                template=template_format)\n",
    "            chain = LLMChain(llm=llm,prompt=prompt)\n",
    "            result = chain(\n",
    "                {\n",
    "                    \"publications\":json.dumps(page_data),\n",
    "                    \"company_info\":json.dumps(company_info),\n",
    "                    \"template_format\":template_format,\n",
    "                    \"response_format\":json.dumps(response_format)\n",
    "                })\n",
    "            return result['text']\n",
    "            \n",
    "\n",
    "\n"
   ]
  },
  {
   "cell_type": "markdown",
   "metadata": {},
   "source": [
    "# Content US Standards "
   ]
  },
  {
   "cell_type": "code",
   "execution_count": 118,
   "metadata": {},
   "outputs": [],
   "source": [
    "import requests\n",
    "import json\n",
    "import re\n",
    "\n",
    "# Fetch the British to American English conversion dictionary\n",
    "url = \"https://raw.githubusercontent.com/hyperreality/American-British-English-Translator/master/data/british_spellings.json\"\n",
    "response = requests.get(url)\n",
    "convert = response.json()\n",
    "\n",
    "\n",
    "def convert_to_american(text, conversion_dict):\n",
    "    \"\"\"Convert British English words in the text to American English using the provided dictionary.\"\"\"\n",
    "    # Tokenize the text using regex to identify words and apply replacements\n",
    "    words = re.findall(r'\\w+|\\W+', text)\n",
    "    converted_text = ''.join([conversion_dict.get(word.lower(), word) for word in words])\n",
    "    return converted_text\n",
    "\n",
    "def process_nested_dict(data, conversion_dict):\n",
    "    \"\"\"Recursively process each string value in the nested dictionary.\"\"\"\n",
    "    if isinstance(data, dict):\n",
    "        return {key: process_nested_dict(value, conversion_dict) for key, value in data.items()}\n",
    "    elif isinstance(data, list):\n",
    "        return [process_nested_dict(item, conversion_dict) for item in data]\n",
    "    elif isinstance(data, str):\n",
    "        return convert_to_american(data, conversion_dict)\n",
    "    else:\n",
    "        return data\n",
    "\n",
    "# Convert all text fields in the home_content dictionary\n",
    "def convert_us_standards(content,convert):\n",
    "    converted_content = process_nested_dict(content, convert)\n",
    "    return converted_content\n",
    "\n"
   ]
  },
  {
   "cell_type": "markdown",
   "metadata": {},
   "source": [
    "# Format bullet list"
   ]
  },
  {
   "cell_type": "code",
   "execution_count": null,
   "metadata": {},
   "outputs": [],
   "source": [
    "def format_bullet_list(title, items, is_sentence=False):\n",
    "   \n",
    "    formatted_list = \"\"\n",
    "    \n",
    "    # Add title or supporting sentence\n",
    "    if title:\n",
    "        formatted_list += f\"{title}\\n\\n\"\n",
    "    \n",
    "    # Determine if any items are sentences\n",
    "    any_sentence = any(item.endswith('.') for item in items)\n",
    "    \n",
    "    for item in items:\n",
    "        # If items are sentences or if any item is a sentence, ensure all items end with a period\n",
    "        if is_sentence or any_sentence:\n",
    "            if not item.endswith('.'):\n",
    "                item += '.'\n",
    "        formatted_list += f\"- {item}\\n\"\n",
    "    \n",
    "    return formatted_list\n",
    "\n",
    "# \n",
    "# title = \"Here are some features of the product:\"\n",
    "# items = [\n",
    "#     \"High durability\",\n",
    "#     \"Water-resistant\",\n",
    "#     \"Brand names and superscript words are case-sensitive\",\n",
    "#     \"Locations don’t need a period\"\n",
    "# ]\n",
    "# formatted_list = format_bullet_list(title, items, is_sentence=False)\n",
    "# print(formatted_list)\n",
    "\n",
    "\n"
   ]
  },
  {
   "cell_type": "markdown",
   "metadata": {},
   "source": [
    "# Home Content"
   ]
  },
  {
   "cell_type": "code",
   "execution_count": 137,
   "metadata": {},
   "outputs": [
    {
     "name": "stdout",
     "output_type": "stream",
     "text": [
      "{\"company_info\": {\"meta_title\": \"XYZ CONSULTING LLC - Enhancing Healthcare Knowledge Through Freelance Writing\", \"meta_description\": \"XYZ CONSULTING LLC provides freelance writing services focused on enhancing healthcare knowledge. We offer current, up-to-date, and trending medical and surgical information to the healthcare community and the general population. Our team of experienced registered nurses with extensive experience in administration, critical care, and research ensures high-quality content that promotes self-advocacy for a healthier lifestyle.\"}, \"content\": {\"hero_title\": \"Enhancing Healthcare Knowledge Through Freelance Writing\", \"h1_content\": \"At XYZ CONSULTING LLC, our mission is to enhance healthcare knowledge for all through our freelance writing services. With a team of registered nurses with vast experience in administration, critical care, and research, we provide current, up-to-date, and trending medical and surgical information to the healthcare community and the general population. Our goal is to empower individuals to self-advocate for a healthier lifestyle by providing them with the knowledge they need.\", \"h2_title\": \"Experience the Power of Knowledge with XYZ CONSULTING LLC\", \"h2_content\": \"Explore our case studies and discover how our freelance writing services have made a difference in enhancing healthcare knowledge. Our team's expertise and dedication ensure that we deliver high-quality content that educates and empowers. Join us in our mission to make healthcare knowledge accessible to all.\", \"leading_sentence\": \"XYZ CONSULTING LLC is dedicated to enhancing healthcare knowledge through our freelance writing services. We believe that knowledge is power, and by providing current and relevant information, we aim to empower individuals to take control of their health and well-being.\"}, \"customerAction\": \"Focus on content\", \"Business_info\": {\"businessName\": \"XYZ CONSULTING LLC\", \"Country\": \"US\", \"product_type\": \"non-care\", \"business_info\": \"domain: \\nhasTagline: \\ndescription: freelace writing and healthcare \\ntimeInBusiness: \\nbusinessTypeName: Consulting \\nbizWaysOnline: \\nlocalAreas: Eastern and Central Confetti , USA \\nkeyTerms: provide publications \\ngoal: other \\ngoalDescription: \\ntargetAudience: \\nbizEmails: \\nBusiness Hours: No, don't show my hours \\nshowBizHours: Sunday: closed Monday: 08:00 - 18:00 Tuesday: 08:00 - 18:00 Wednesday: 08:00 - 18:00 Thursday: 08:00 - 18:00 Friday: 08:00 - 18:00 Saturday: 08:00 - 18:00 \\nphone: \\nshowBizFullAddress: yes \\ncountry_region: US \\naddress1: 195 Owen Street, Prestonsdurg \\ncity: Kentucky \\nstate: \\npostalCode: 41653 \\nhasCompetitors: \\n\"}}\n"
     ]
    }
   ],
   "source": [
    "try:\n",
    "    home_content=generate_content(final_data[0],company_info)\n",
    "    home_content=json.loads(home_content)\n",
    "    if  final_data[0]['customerAction'] == \"\":\n",
    "        final_data[0][\"customerAction\"] = \"Explore More...\"\n",
    "    home_content['customerAction']=final_data[0]['customerAction']\n",
    "    home_content[\"Business_info\"]=company_info\n",
    "    if not isinstance(home_content,dict):\n",
    "        raise ValueError\n",
    "    \n",
    "    # Convert all content to US standards\n",
    "    home_content=convert_us_standards(home_content,convert) # convert (this file have all the US standards words in json format)\n",
    "    print(json.dumps(home_content))\n",
    "\n",
    "except Exception as e:\n",
    "    raise ValueError(e) "
   ]
  },
  {
   "cell_type": "code",
   "execution_count": 138,
   "metadata": {},
   "outputs": [
    {
     "data": {
      "text/plain": [
       "{'company_info': {'meta_title': 'XYZ CONSULTING LLC - Enhancing Healthcare Knowledge Through Freelance Writing',\n",
       "  'meta_description': 'XYZ CONSULTING LLC provides freelance writing services focused on enhancing healthcare knowledge. We offer current, up-to-date, and trending medical and surgical information to the healthcare community and the general population. Our team of experienced registered nurses with extensive experience in administration, critical care, and research ensures high-quality content that promotes self-advocacy for a healthier lifestyle.'},\n",
       " 'content': {'hero_title': 'Enhancing Healthcare Knowledge Through Freelance Writing',\n",
       "  'h1_content': 'At XYZ CONSULTING LLC, our mission is to enhance healthcare knowledge for all through our freelance writing services. With a team of registered nurses with vast experience in administration, critical care, and research, we provide current, up-to-date, and trending medical and surgical information to the healthcare community and the general population. Our goal is to empower individuals to self-advocate for a healthier lifestyle by providing them with the knowledge they need.',\n",
       "  'h2_title': 'Experience the Power of Knowledge with XYZ CONSULTING LLC',\n",
       "  'h2_content': \"Explore our case studies and discover how our freelance writing services have made a difference in enhancing healthcare knowledge. Our team's expertise and dedication ensure that we deliver high-quality content that educates and empowers. Join us in our mission to make healthcare knowledge accessible to all.\",\n",
       "  'leading_sentence': 'XYZ CONSULTING LLC is dedicated to enhancing healthcare knowledge through our freelance writing services. We believe that knowledge is power, and by providing current and relevant information, we aim to empower individuals to take control of their health and well-being.'},\n",
       " 'customerAction': 'Focus on content',\n",
       " 'Business_info': {'businessName': 'XYZ CONSULTING LLC',\n",
       "  'Country': 'US',\n",
       "  'product_type': 'non-care',\n",
       "  'business_info': \"domain: \\nhasTagline: \\ndescription: freelace writing and healthcare \\ntimeInBusiness: \\nbusinessTypeName: Consulting \\nbizWaysOnline: \\nlocalAreas: Eastern and Central Confetti , USA \\nkeyTerms: provide publications \\ngoal: other \\ngoalDescription: \\ntargetAudience: \\nbizEmails: \\nBusiness Hours: No, don't show my hours \\nshowBizHours: Sunday: closed Monday: 08:00 - 18:00 Tuesday: 08:00 - 18:00 Wednesday: 08:00 - 18:00 Thursday: 08:00 - 18:00 Friday: 08:00 - 18:00 Saturday: 08:00 - 18:00 \\nphone: \\nshowBizFullAddress: yes \\ncountry_region: US \\naddress1: 195 Owen Street, Prestonsdurg \\ncity: Kentucky \\nstate: \\npostalCode: 41653 \\nhasCompetitors: \\n\"}}"
      ]
     },
     "execution_count": 138,
     "metadata": {},
     "output_type": "execute_result"
    }
   ],
   "source": [
    "home_content"
   ]
  },
  {
   "cell_type": "markdown",
   "metadata": {},
   "source": [
    "# About content"
   ]
  },
  {
   "cell_type": "code",
   "execution_count": 139,
   "metadata": {},
   "outputs": [
    {
     "name": "stdout",
     "output_type": "stream",
     "text": [
      "{\"company_info\": {\"meta_title\": \"XYZ CONSULTING LLC - Enhancing Healthcare Knowledge Through Freelance Writing\", \"meta_description\": \"XYZ CONSULTING LLC provides freelance writing services focused on enhancing healthcare knowledge. We offer current, up-to-date, and trending medical and surgical information to the healthcare community and the general population. Our team of experienced registered nurses with extensive experience in administration, critical care, and research ensures high-quality content that promotes self-advocacy for a healthier lifestyle.\"}, \"content\": {\"hero_title\": \"Enhancing Healthcare Knowledge Through Freelance Writing\", \"h1_content\": \"At XYZ CONSULTING LLC, our mission is to enhance healthcare knowledge for all through our freelance writing services. With a team of registered nurses with vast experience in administration, critical care, and research, we provide current, up-to-date, and trending medical and surgical information to the healthcare community and the general population. Our goal is to empower individuals to self-advocate for a healthier lifestyle by providing them with the knowledge they need.\", \"h2_title\": \"Experience the Power of Knowledge with XYZ CONSULTING LLC\", \"h2_content\": \"Explore our case studies and discover how our freelance writing services have made a difference in enhancing healthcare knowledge. Our team's expertise and dedication ensure that we deliver high-quality content that educates and empowers. Join us in our mission to make healthcare knowledge accessible to all.\", \"leading_sentence\": \"XYZ CONSULTING LLC is dedicated to enhancing healthcare knowledge through our freelance writing services. We believe that knowledge is power, and by providing current and relevant information, we aim to empower individuals to take control of their health and well-being.\"}, \"customerAction\": \"Focus on content\", \"Business_info\": {\"businessName\": \"XYZ CONSULTING LLC\", \"Country\": \"US\", \"product_type\": \"non-care\", \"business_info\": \"domain: \\nhasTagline: \\ndescription: freelace writing and healthcare \\ntimeInBusiness: \\nbusinessTypeName: Consulting \\nbizWaysOnline: \\nlocalAreas: Eastern and Central Confetti , USA \\nkeyTerms: provide publications \\ngoal: other \\ngoalDescription: \\ntargetAudience: \\nbizEmails: \\nBusiness Hours: No, don't show my hours \\nshowBizHours: Sunday: closed Monday: 08:00 - 18:00 Tuesday: 08:00 - 18:00 Wednesday: 08:00 - 18:00 Thursday: 08:00 - 18:00 Friday: 08:00 - 18:00 Saturday: 08:00 - 18:00 \\nphone: \\nshowBizFullAddress: yes \\ncountry_region: US \\naddress1: 195 Owen Street, Prestonsdurg \\ncity: Kentucky \\nstate: \\npostalCode: 41653 \\nhasCompetitors: \\n\"}}\n"
     ]
    }
   ],
   "source": [
    "try:\n",
    "    about_content=generate_content(final_data[1],company_info)\n",
    "    # Convert string to json format\n",
    "    about_content=json.loads(about_content)\n",
    "    if final_data[1]['customerAction'] == \"\":\n",
    "        final_data[1][\"customerAction\"] = \"Explore More...\"\n",
    "\n",
    "    about_content['customerAction']=final_data[1]['customerAction']\n",
    "    about_content[\"Business_info\"]=company_info\n",
    "\n",
    "    if not isinstance(about_content,dict):\n",
    "        raise ValueError\n",
    "    about_content=convert_us_standards(home_content,convert)\n",
    "    print(json.dumps(about_content))\n",
    "except Exception as e:\n",
    "    raise ValueError(e)\n",
    "\n"
   ]
  },
  {
   "cell_type": "code",
   "execution_count": 140,
   "metadata": {},
   "outputs": [
    {
     "data": {
      "text/plain": [
       "{'company_info': {'meta_title': 'XYZ CONSULTING LLC - Enhancing Healthcare Knowledge Through Freelance Writing',\n",
       "  'meta_description': 'XYZ CONSULTING LLC provides freelance writing services focused on enhancing healthcare knowledge. We offer current, up-to-date, and trending medical and surgical information to the healthcare community and the general population. Our team of experienced registered nurses with extensive experience in administration, critical care, and research ensures high-quality content that promotes self-advocacy for a healthier lifestyle.'},\n",
       " 'content': {'hero_title': 'Enhancing Healthcare Knowledge Through Freelance Writing',\n",
       "  'h1_content': 'At XYZ CONSULTING LLC, our mission is to enhance healthcare knowledge for all through our freelance writing services. With a team of registered nurses with vast experience in administration, critical care, and research, we provide current, up-to-date, and trending medical and surgical information to the healthcare community and the general population. Our goal is to empower individuals to self-advocate for a healthier lifestyle by providing them with the knowledge they need.',\n",
       "  'h2_title': 'Experience the Power of Knowledge with XYZ CONSULTING LLC',\n",
       "  'h2_content': \"Explore our case studies and discover how our freelance writing services have made a difference in enhancing healthcare knowledge. Our team's expertise and dedication ensure that we deliver high-quality content that educates and empowers. Join us in our mission to make healthcare knowledge accessible to all.\",\n",
       "  'leading_sentence': 'XYZ CONSULTING LLC is dedicated to enhancing healthcare knowledge through our freelance writing services. We believe that knowledge is power, and by providing current and relevant information, we aim to empower individuals to take control of their health and well-being.'},\n",
       " 'customerAction': 'Focus on content',\n",
       " 'Business_info': {'businessName': 'XYZ CONSULTING LLC',\n",
       "  'Country': 'US',\n",
       "  'product_type': 'non-care',\n",
       "  'business_info': \"domain: \\nhasTagline: \\ndescription: freelace writing and healthcare \\ntimeInBusiness: \\nbusinessTypeName: Consulting \\nbizWaysOnline: \\nlocalAreas: Eastern and Central Confetti , USA \\nkeyTerms: provide publications \\ngoal: other \\ngoalDescription: \\ntargetAudience: \\nbizEmails: \\nBusiness Hours: No, don't show my hours \\nshowBizHours: Sunday: closed Monday: 08:00 - 18:00 Tuesday: 08:00 - 18:00 Wednesday: 08:00 - 18:00 Thursday: 08:00 - 18:00 Friday: 08:00 - 18:00 Saturday: 08:00 - 18:00 \\nphone: \\nshowBizFullAddress: yes \\ncountry_region: US \\naddress1: 195 Owen Street, Prestonsdurg \\ncity: Kentucky \\nstate: \\npostalCode: 41653 \\nhasCompetitors: \\n\"}}"
      ]
     },
     "execution_count": 140,
     "metadata": {},
     "output_type": "execute_result"
    }
   ],
   "source": [
    "about_content"
   ]
  },
  {
   "cell_type": "markdown",
   "metadata": {},
   "source": [
    "# Services\n"
   ]
  },
  {
   "cell_type": "code",
   "execution_count": 171,
   "metadata": {},
   "outputs": [
    {
     "name": "stdout",
     "output_type": "stream",
     "text": [
      "\"{\\\"company_info\\\": {\\\"meta_title\\\": \\\"XYZ CONSULTING LLC - Freelance Writing and Healthcare Consulting Services\\\", \\\"meta_description\\\": \\\"Providing high-quality freelance writing and healthcare consulting services to clients in Eastern and Central Confetti, USA.\\\"}, \\\"content\\\": {\\\"Our Service\\\": \\\"Comprehensive Freelance Writing and Healthcare Consulting Services\\\", \\\"Best_Service1\\\": {\\\"title\\\": \\\"Enhancing Healthcare Knowledge\\\", \\\"content\\\": \\\"We provide current, up-to-date, and trending medical and surgical information to the Healthcare Community. Our goal is to enhance the healthcare knowledge of the general population, empowering them to advocate for a healthier lifestyle.\\\", \\\"Action\\\": \\\"Learn More\\\"}, \\\"Best_Service2\\\": {\\\"title\\\": \\\"Experienced Healthcare Writer\\\", \\\"content\\\": \\\"With nearly five decades of dedicated service as a Registered Nurse, our freelance healthcare writer brings a wealth of experience and expertise to the world of healthcare writing. We specialize in distilling complex medical concepts into accessible articles and providing evidence-based insights for healthcare publications.\\\", \\\"Action\\\": \\\"Hire Now\\\"}, \\\"Best_Service3\\\": {\\\"title\\\": \\\"Collaborative Approach\\\", \\\"content\\\": \\\"We foster collaborative relationships and facilitate interdisciplinary communication to ensure the highest standards of patient care. Our expertise as a liaison to physicians and Chief of Medicine allows us to drive positive outcomes and foster a culture of excellence in healthcare organizations.\\\", \\\"Action\\\": \\\"Contact Us\\\"}, \\\"Benifits\\\": \\\"By leveraging our services, clients can expect high-quality healthcare content that educates, informs, and inspires. We provide evidence-based insights, distill complex medical concepts into accessible articles, and offer a collaborative approach to drive positive change within the healthcare industry.\\\", \\\"leading_sentence\\\": \\\"Experience the power of words in enhancing healthcare knowledge and driving positive change within the industry.\\\"}}\"\n"
     ]
    }
   ],
   "source": [
    "try:\n",
    "    service_json={\"title\":\"services\",\"Home\":final_data[0],\"About\":final_data[1]}\n",
    "    service_content=generate_content(service_json,company_info)\n",
    "    service_content=json.loads(service_content)\n",
    "    if not isinstance(service_content,dict):\n",
    "        raise ValueError\n",
    "    service_content=convert_us_standards(service_content,convert)\n",
    "    print(json.dumps(service_content))\n",
    "except Exception as e:\n",
    "    print(e)"
   ]
  },
  {
   "cell_type": "code",
   "execution_count": 174,
   "metadata": {},
   "outputs": [
    {
     "data": {
      "text/plain": [
       "{'company_info': {'meta_title': 'XYZ CONSULTING LLC - Freelance Writing and Healthcare Consulting Services',\n",
       "  'meta_description': 'Providing high-quality freelance writing and healthcare consulting services to clients in Eastern and Central Confetti, USA.'},\n",
       " 'content': {'Our Service': 'Comprehensive Freelance Writing and Healthcare Consulting Services',\n",
       "  'Best_Service1': {'title': 'Enhancing Healthcare Knowledge',\n",
       "   'content': 'We provide current, up-to-date, and trending medical and surgical information to the Healthcare Community. Our goal is to enhance the healthcare knowledge of the general population, empowering them to advocate for a healthier lifestyle.',\n",
       "   'Action': 'Learn More'},\n",
       "  'Best_Service2': {'title': 'Experienced Healthcare Writer',\n",
       "   'content': 'With nearly five decades of dedicated service as a Registered Nurse, our freelance healthcare writer brings a wealth of experience and expertise to the world of healthcare writing. We specialize in distilling complex medical concepts into accessible articles and providing evidence-based insights for healthcare publications.',\n",
       "   'Action': 'Hire Now'},\n",
       "  'Best_Service3': {'title': 'Collaborative Approach',\n",
       "   'content': 'We foster collaborative relationships and facilitate interdisciplinary communication to ensure the highest standards of patient care. Our expertise as a liaison to physicians and Chief of Medicine allows us to drive positive outcomes and foster a culture of excellence in healthcare organizations.',\n",
       "   'Action': 'Contact Us'},\n",
       "  'Benifits': 'By leveraging our services, clients can expect high-quality healthcare content that educates, informs, and inspires. We provide evidence-based insights, distill complex medical concepts into accessible articles, and offer a collaborative approach to drive positive change within the healthcare industry.',\n",
       "  'leading_sentence': 'Experience the power of words in enhancing healthcare knowledge and driving positive change within the industry.'}}"
      ]
     },
     "execution_count": 174,
     "metadata": {},
     "output_type": "execute_result"
    }
   ],
   "source": [
    "json.loads(service_content)"
   ]
  },
  {
   "cell_type": "markdown",
   "metadata": {},
   "source": [
    "# Contact"
   ]
  },
  {
   "cell_type": "code",
   "execution_count": 202,
   "metadata": {},
   "outputs": [
    {
     "name": "stdout",
     "output_type": "stream",
     "text": [
      "{\"company_info\": {\"meta_title\": \"Contact XYZ Consulting\", \"meta_description\": \"Contact Bill, PA. Standard contact page with contact form, designer discretion on this page for layout and images.\", \"title\": \"Contact XYZ Consulting\"}}\n"
     ]
    }
   ],
   "source": [
    "try:\n",
    "    contact_content=generate_content(final_data[3],company_info)\n",
    "    contact_content=json.loads(contact_content)\n",
    "    if not isinstance(contact_content,dict):\n",
    "        raise ValueError\n",
    "    contact_content=convert_us_standards(contact_content,convert)\n",
    "    print(json.dumps(contact_content))\n",
    "except Exception as e:\n",
    "    print(e)"
   ]
  },
  {
   "cell_type": "code",
   "execution_count": 205,
   "metadata": {},
   "outputs": [],
   "source": [
    "contact_content[\"Name\"]=\"XXXXX XXXXX\"\n",
    "contact_content[\"Email\"]=\"XXXXXXXXXX@gmail.com\"\n",
    "contact_content[\"Phone\"]=\"+** ***** *****\""
   ]
  },
  {
   "cell_type": "code",
   "execution_count": 206,
   "metadata": {},
   "outputs": [
    {
     "data": {
      "text/plain": [
       "{'company_info': {'meta_title': 'Contact XYZ Consulting',\n",
       "  'meta_description': 'Contact Bill, PA. Standard contact page with contact form, designer discretion on this page for layout and images.',\n",
       "  'title': 'Contact XYZ Consulting'},\n",
       " 'Name': 'XXXXX XXXXX',\n",
       " 'Email': 'XXXXXXXXXX@gmail.com',\n",
       " 'Phone': '+** ***** *****'}"
      ]
     },
     "execution_count": 206,
     "metadata": {},
     "output_type": "execute_result"
    }
   ],
   "source": [
    "contact_content"
   ]
  },
  {
   "cell_type": "markdown",
   "metadata": {},
   "source": [
    "# Publications"
   ]
  },
  {
   "cell_type": "code",
   "execution_count": 217,
   "metadata": {},
   "outputs": [
    {
     "name": "stdout",
     "output_type": "stream",
     "text": [
      "{\"meta_title\": \"XYZ CONSULTING LLC Publications - Stay Informed with Healthcare Updates\", \"meta_description\": \"Stay up-to-date with timely updates on healthcare regulations, policies, and industry changes. Access our extensive research reports that provide valuable data, analysis, and insights into various aspects of healthcare.\", \"title\": \"Publications\", \"content\": \"Stay informed with timely updates on healthcare regulations, policies, and industry changes. Our publications ensure you are always up-to-date with the latest developments and their implications. Access our extensive research reports that provide valuable data, analysis, and insights into various aspects of healthcare. Our reports are designed to help you make informed decisions and stay ahead in the field.\", \"Additional_information\": \"Our publications provide valuable data, analysis, and insights into various aspects of healthcare. They are designed to help you make informed decisions and stay ahead in the field.\"}\n"
     ]
    }
   ],
   "source": [
    "try:\n",
    "    publication_content=generate_content(final_data[2],company_info)\n",
    "\n",
    "    publication_content=json.loads(publication_content)\n",
    "    if not isinstance(publication_content,dict):\n",
    "        raise ValueError\n",
    "    publication_content=convert_us_standards(publication_content,convert)\n",
    "    print(json.dumps(publication_content))\n",
    "except Exception as e:\n",
    "    print(e)"
   ]
  },
  {
   "cell_type": "code",
   "execution_count": 218,
   "metadata": {},
   "outputs": [
    {
     "data": {
      "text/plain": [
       "{'meta_title': 'XYZ CONSULTING LLC Publications - Stay Informed with Healthcare Updates',\n",
       " 'meta_description': 'Stay up-to-date with timely updates on healthcare regulations, policies, and industry changes. Access our extensive research reports that provide valuable data, analysis, and insights into various aspects of healthcare.',\n",
       " 'title': 'Publications',\n",
       " 'content': 'Stay informed with timely updates on healthcare regulations, policies, and industry changes. Our publications ensure you are always up-to-date with the latest developments and their implications. Access our extensive research reports that provide valuable data, analysis, and insights into various aspects of healthcare. Our reports are designed to help you make informed decisions and stay ahead in the field.',\n",
       " 'Additional_information': 'Our publications provide valuable data, analysis, and insights into various aspects of healthcare. They are designed to help you make informed decisions and stay ahead in the field.'}"
      ]
     },
     "execution_count": 218,
     "metadata": {},
     "output_type": "execute_result"
    }
   ],
   "source": [
    "publication_content\n"
   ]
  },
  {
   "cell_type": "code",
   "execution_count": null,
   "metadata": {},
   "outputs": [],
   "source": []
  }
 ],
 "metadata": {
  "kernelspec": {
   "display_name": "Python 3",
   "language": "python",
   "name": "python3"
  },
  "language_info": {
   "codemirror_mode": {
    "name": "ipython",
    "version": 3
   },
   "file_extension": ".py",
   "mimetype": "text/x-python",
   "name": "python",
   "nbconvert_exporter": "python",
   "pygments_lexer": "ipython3",
   "version": "3.12.3"
  }
 },
 "nbformat": 4,
 "nbformat_minor": 2
}
